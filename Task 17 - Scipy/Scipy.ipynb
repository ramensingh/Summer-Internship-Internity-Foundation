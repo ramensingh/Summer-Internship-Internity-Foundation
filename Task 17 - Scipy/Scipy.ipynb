{
 "cells": [
  {
   "cell_type": "code",
   "execution_count": null,
   "metadata": {},
   "outputs": [],
   "source": []
  },
  {
   "cell_type": "code",
   "execution_count": 1,
   "metadata": {},
   "outputs": [
    {
     "name": "stdout",
     "output_type": "stream",
     "text": [
      "No. of observations is :\n",
      " DescribeResult(nobs=3, minmax=(3, 27), mean=13.0, variance=156.0, skewness=0.5280049792181878, kurtosis=-1.5)\n"
     ]
    }
   ],
   "source": [
    "# 1.\n",
    "from scipy import stats\n",
    "\n",
    "arr1 = [9, 3, 27]\n",
    "\n",
    "desc = stats.describe(arr1)\n",
    "\n",
    "print(\"No. of observations is :\\n\", desc)\n"
   ]
  },
  {
   "cell_type": "code",
   "execution_count": 2,
   "metadata": {},
   "outputs": [
    {
     "name": "stdout",
     "output_type": "stream",
     "text": [
      "No. of observations at axis = 0 :\n",
      "\n",
      " DescribeResult(nobs=4, minmax=(array([1, 3, 3]), array([ 7,  6, 27])), mean=array([ 3.5 ,  4.75, 11.  ]), variance=array([  6.33333333,   2.25      , 118.        ]), skewness=array([ 0.65202366, -0.21383343,  1.03055786]), kurtosis=array([-0.90304709, -1.72016461, -0.75485971]))\n",
      "\n",
      "\n",
      "No. of observations at axis = 1 :\n",
      "\n",
      " DescribeResult(nobs=4, minmax=(array([1, 3, 3]), array([ 7,  6, 27])), mean=array([ 3.5 ,  4.75, 11.  ]), variance=array([  6.33333333,   2.25      , 118.        ]), skewness=array([ 0.65202366, -0.21383343,  1.03055786]), kurtosis=array([-0.90304709, -1.72016461, -0.75485971]))\n"
     ]
    }
   ],
   "source": [
    "# 2. FInding statistics of data\n",
    "\n",
    "from scipy import stats\n",
    "\n",
    "arr1 = [[1, 3, 27],[3, 4, 6],[7, 6, 3],[3, 6, 8]]\n",
    "\n",
    "desc = stats.describe(arr1, axis = 0)\n",
    "\n",
    "\n",
    "print(\"No. of observations at axis = 0 :\\n\\n\", desc)\n",
    "\n",
    "\n",
    "print(\"\\n\\nNo. of observations at axis = 1 :\\n\\n\", desc)\n"
   ]
  },
  {
   "cell_type": "markdown",
   "metadata": {},
   "source": [
    "Linear Algrbra"
   ]
  },
  {
   "cell_type": "code",
   "execution_count": 3,
   "metadata": {},
   "outputs": [
    {
     "name": "stdout",
     "output_type": "stream",
     "text": [
      "[0.74074074 1.40740741]\n"
     ]
    }
   ],
   "source": [
    "# 1.\n",
    "# Import the required libraries\n",
    "from scipy import linalg\n",
    "import numpy as np\n",
    "\n",
    "# The function takes two arrays\n",
    "a = np.array([[7, 2], [4, 5]])\n",
    "b = np.array([8, 10])\n",
    "\n",
    "# Solving the linear equations\n",
    "res = linalg.solve(a, b)\n",
    "print(res)\n"
   ]
  },
  {
   "cell_type": "code",
   "execution_count": 4,
   "metadata": {},
   "outputs": [
    {
     "name": "stdout",
     "output_type": "stream",
     "text": [
      "[[ 0.18518519 -0.07407407]\n",
      " [-0.14814815  0.25925926]]\n"
     ]
    }
   ],
   "source": [
    "# 2.\n",
    "# Initializing the matrix\n",
    "x = np.array([[7, 2], [4, 5]])\n",
    "\n",
    "# Finding the inverse of matrix x\n",
    "y = linalg.inv(x)\n",
    "print(y)\n"
   ]
  },
  {
   "cell_type": "code",
   "execution_count": 5,
   "metadata": {},
   "outputs": [
    {
     "name": "stdout",
     "output_type": "stream",
     "text": [
      "21.0\n"
     ]
    }
   ],
   "source": [
    "# 3. \n",
    "# Initializing the matrix A\n",
    "A = np.array([[9 , 6] , [4 , 5]])\n",
    "\n",
    "# Finding the determinant of matrix A\n",
    "D = linalg.det(A)\n",
    "print(D)\n"
   ]
  },
  {
   "cell_type": "code",
   "execution_count": 6,
   "metadata": {},
   "outputs": [
    {
     "name": "stdout",
     "output_type": "stream",
     "text": [
      "[[-0.38684104 -0.92214641]\n",
      " [-0.92214641  0.38684104]] [12.62901571  1.58365469] [[-0.46873958 -0.88333641]\n",
      " [ 0.88333641 -0.46873958]]\n"
     ]
    }
   ],
   "source": [
    "# 4. singular value decomposition\n",
    "\n",
    "# Initializing the matrix M\n",
    "M = np.array([[1 , 5] , [6 , 10]])\n",
    "\n",
    "# Passing the values to the\n",
    "# eigen function\n",
    "x , y , z = linalg.svd(M)\n",
    "print(x , y , z)\n",
    "\n"
   ]
  },
  {
   "cell_type": "code",
   "execution_count": 7,
   "metadata": {},
   "outputs": [
    {
     "name": "stdout",
     "output_type": "stream",
     "text": [
      "[10.+0.j  3.+0.j]\n",
      "[[ 0.9486833  -0.4472136 ]\n",
      " [ 0.31622777  0.89442719]]\n"
     ]
    }
   ],
   "source": [
    "# 5.\n",
    "# Initializing the matrix M\n",
    "M = np.array([[9 , 3] , [2 , 4]])\n",
    "\n",
    "# Passing the values to the eigen\n",
    "# function\n",
    "val , vect = linalg.eig(M)\n",
    "\n",
    "# Display the Eigen values and Eigen\n",
    "# vectors\n",
    "print(val)\n",
    "print(vect)\n"
   ]
  },
  {
   "cell_type": "code",
   "execution_count": 8,
   "metadata": {},
   "outputs": [
    {
     "name": "stdout",
     "output_type": "stream",
     "text": [
      "6.708203932499369\n",
      "9.0\n"
     ]
    }
   ],
   "source": [
    "# 6.\n",
    "# Initializing the input array \n",
    "x = np.array([6 , 3])\n",
    "  \n",
    "# Calculating the L2 norm\n",
    "a = linalg.norm(x)\n",
    "  \n",
    "# Calculating the L1 norm\n",
    "b = linalg.norm(x , 1)\n",
    "  \n",
    "# Displaying the norm values\n",
    "print(a)\n",
    "print(b)"
   ]
  },
  {
   "cell_type": "code",
   "execution_count": 9,
   "metadata": {},
   "outputs": [
    {
     "name": "stdout",
     "output_type": "stream",
     "text": [
      "[[ 2.49878019  0.62469505]\n",
      " [15.61737619  3.90434405]]\n",
      "\n",
      "\n",
      "[[2.49695022e+17 6.24237555e+16]\n",
      " [1.56059389e+18 3.90148472e+17]]\n",
      "\n",
      "\n",
      "[[-0.06190153 -0.01547538]\n",
      " [-0.38688456 -0.09672114]]\n",
      "\n",
      "\n",
      "[[ 0.22445296 -0.19388676]\n",
      " [-4.84716897 -0.21179224]]\n",
      "\n",
      "\n",
      "[[0.0626953  0.01567382]\n",
      " [0.39184561 0.0979614 ]]\n"
     ]
    }
   ],
   "source": [
    "# 7. \n",
    "# Initializing the matrix\n",
    "x = np.array([[16 , 4] , [100 , 25]])\n",
    "\n",
    "# Calculate and print the matrix square root\n",
    "r = linalg.sqrtm(x)\n",
    "print(r)\n",
    "print(\"\\n\")\n",
    "\n",
    "# Calculate and print the matrix exponential\n",
    "e = linalg.expm(x)\n",
    "print(e)\n",
    "print(\"\\n\")\n",
    "\n",
    "# Calculate and print the matrix sine\n",
    "s = linalg.sinm(x)\n",
    "print(s)\n",
    "print(\"\\n\")\n",
    "\n",
    "# Calculate and print the matrix cosine\n",
    "c = linalg.cosm(x)\n",
    "print(c)\n",
    "print(\"\\n\")\n",
    "\n",
    "# Calculate and print the matrix tangent\n",
    "t = linalg.tanm(x)\n",
    "print(t)\n"
   ]
  },
  {
   "cell_type": "markdown",
   "metadata": {},
   "source": [
    "\n",
    "Data Analysis with SciPy"
   ]
  },
  {
   "cell_type": "code",
   "execution_count": 10,
   "metadata": {},
   "outputs": [
    {
     "name": "stdout",
     "output_type": "stream",
     "text": [
      "[[1. 0.]\n",
      " [0. 1.]]\n",
      "[[1.         0.        ]\n",
      " [0.44444444 1.        ]]\n",
      "[[9.         6.        ]\n",
      " [0.         2.33333333]]\n",
      "[[9. 6.]\n",
      " [4. 5.]]\n"
     ]
    }
   ],
   "source": [
    "# 1.\n",
    "P, L, U = linalg.lu(A)\n",
    "print(P)\n",
    "print(L)\n",
    "print(U)\n",
    "# print LU decomposition\n",
    "print(np.dot(L,U))\n"
   ]
  },
  {
   "cell_type": "code",
   "execution_count": 11,
   "metadata": {},
   "outputs": [
    {
     "name": "stdout",
     "output_type": "stream",
     "text": [
      "[12.29150262+0.j  1.70849738+0.j]\n",
      "[[ 0.8767397  -0.6354064 ]\n",
      " [ 0.48096517  0.7721779 ]]\n"
     ]
    }
   ],
   "source": [
    "# 2.\n",
    "eigen_values, eigen_vectors = linalg.eig(A)\n",
    "print(eigen_values)\n",
    "print(eigen_vectors)\n"
   ]
  },
  {
   "cell_type": "code",
   "execution_count": 13,
   "metadata": {},
   "outputs": [
    {
     "name": "stdout",
     "output_type": "stream",
     "text": [
      "[[2]\n",
      " [3]\n",
      " [5]]\n",
      "[[-2.33333333]\n",
      " [ 3.66666667]\n",
      " [-1.        ]]\n"
     ]
    }
   ],
   "source": [
    "# 3.\n",
    "A = np.array([[1,2,3],[4,5,6],[7,8,8]])\n",
    "v = np.array([[2],[3],[5]])\n",
    "print(v)\n",
    "s = linalg.solve(A,v)\n",
    "print(s)\n"
   ]
  },
  {
   "cell_type": "code",
   "execution_count": 14,
   "metadata": {},
   "outputs": [
    {
     "name": "stdout",
     "output_type": "stream",
     "text": [
      "(0.7468241328124271, 8.291413475940725e-15)\n"
     ]
    }
   ],
   "source": [
    "# 4.\n",
    "import scipy.integrate\n",
    "f= lambda x:np.exp(-x**2)\n",
    "# print results\n",
    "i = scipy.integrate.quad(f, 0, 1)\n",
    "print(i)\n"
   ]
  },
  {
   "cell_type": "code",
   "execution_count": null,
   "metadata": {},
   "outputs": [],
   "source": []
  },
  {
   "cell_type": "code",
   "execution_count": null,
   "metadata": {},
   "outputs": [],
   "source": []
  },
  {
   "cell_type": "code",
   "execution_count": null,
   "metadata": {},
   "outputs": [],
   "source": []
  },
  {
   "cell_type": "code",
   "execution_count": null,
   "metadata": {},
   "outputs": [],
   "source": []
  }
 ],
 "metadata": {
  "kernelspec": {
   "display_name": "Python 3",
   "language": "python",
   "name": "python3"
  },
  "language_info": {
   "codemirror_mode": {
    "name": "ipython",
    "version": 3
   },
   "file_extension": ".py",
   "mimetype": "text/x-python",
   "name": "python",
   "nbconvert_exporter": "python",
   "pygments_lexer": "ipython3",
   "version": "3.7.6"
  }
 },
 "nbformat": 4,
 "nbformat_minor": 4
}
