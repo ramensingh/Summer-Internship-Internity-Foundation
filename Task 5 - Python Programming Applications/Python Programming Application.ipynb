{
 "cells": [
  {
   "cell_type": "markdown",
   "metadata": {},
   "source": [
    "Data Handling and Working with files"
   ]
  },
  {
   "cell_type": "code",
   "execution_count": 1,
   "metadata": {},
   "outputs": [
    {
     "name": "stdout",
     "output_type": "stream",
     "text": [
      "Hell is for bad\n",
      "\n",
      "DO good before it's to late\n"
     ]
    }
   ],
   "source": [
    "# 1. Open a file named \"file.txt\", and read its content line by line.\n",
    "file = open('file.txt', 'r')\n",
    "for each in file:\n",
    "    print (each)\n"
   ]
  },
  {
   "cell_type": "code",
   "execution_count": 6,
   "metadata": {},
   "outputs": [
    {
     "name": "stdout",
     "output_type": "stream",
     "text": [
      "Hell is for bad\n",
      "DO good before it's to late\n"
     ]
    }
   ],
   "source": [
    "# 2. Python code to illustrate read() mode\n",
    "\n",
    "file = open(\"file.txt\", \"r\")\n",
    "print (file.read())\n"
   ]
  },
  {
   "cell_type": "code",
   "execution_count": 10,
   "metadata": {},
   "outputs": [
    {
     "data": {
      "text/plain": [
       "['Hell', 'is', 'for', 'bad', 'DO', 'good', 'before', \"it's\", 'to', 'late']"
      ]
     },
     "execution_count": 10,
     "metadata": {},
     "output_type": "execute_result"
    }
   ],
   "source": [
    "# 3. Store the file content in a list\n",
    "file = open(\"file.txt\", \"r\")\n",
    "s=file.read()\n",
    "l=s.split()\n",
    "l"
   ]
  },
  {
   "cell_type": "code",
   "execution_count": 11,
   "metadata": {},
   "outputs": [
    {
     "name": "stdout",
     "output_type": "stream",
     "text": [
      "10\n"
     ]
    }
   ],
   "source": [
    "# 4. Count the number of words in the file\n",
    "file = open(\"file.txt\", \"r\")\n",
    "s=file.read()\n",
    "l=s.split()\n",
    "print(len(l))\n"
   ]
  },
  {
   "cell_type": "code",
   "execution_count": 14,
   "metadata": {},
   "outputs": [],
   "source": [
    "# 5. Python code to create a file\n",
    "file = open('newfile.txt','w')\n",
    "file.write(\"This is the write command. \")\n",
    "file.write(\"It allows us to write in a particular file\")\n",
    "file.close()\n"
   ]
  },
  {
   "cell_type": "code",
   "execution_count": 15,
   "metadata": {},
   "outputs": [
    {
     "name": "stdout",
     "output_type": "stream",
     "text": [
      "This is the write command. It allows us to write in a particular file\n"
     ]
    }
   ],
   "source": [
    "file = open(\"newfile.txt\", \"r\")\n",
    "print (file.read())"
   ]
  },
  {
   "cell_type": "code",
   "execution_count": 16,
   "metadata": {},
   "outputs": [],
   "source": [
    "# 6. Python code to illustrate append() mode\n",
    "file = open('newfile.txt','a')\n",
    "file.write(\". This will add this line\")\n",
    "file.close()\n"
   ]
  },
  {
   "cell_type": "code",
   "execution_count": 17,
   "metadata": {},
   "outputs": [
    {
     "name": "stdout",
     "output_type": "stream",
     "text": [
      "This is the write command. It allows us to write in a particular file. This will add this line\n"
     ]
    }
   ],
   "source": [
    "file = open(\"newfile.txt\", \"r\")\n",
    "print (file.read())"
   ]
  },
  {
   "cell_type": "code",
   "execution_count": 18,
   "metadata": {},
   "outputs": [],
   "source": [
    "# 7. Write a python program that takes a number (X) and file name as argument. \n",
    "# The program should read the contents of a file \n",
    "# which consists of a sequence of words. The program should return 'True' \n",
    "# if all words are having length greater than X\n",
    "\n",
    "def fun(path,X):\n",
    "    file = open(path, \"rt\")\n",
    "    data = file.read()\n",
    "    words = data.split()\n",
    "    \n",
    "    ans=\"\"\n",
    "    for i in words:\n",
    "        if(i[-1]=='.'):\n",
    "            if len(i)-1<X:\n",
    "                ans=ans+i.replace('c','d')+\" \"\n",
    "        else:\n",
    "            if len(i)<X:\n",
    "                ans=ans+i.replace('c','d')+\" \"\n",
    "                \n",
    "    if len(ans)==0:\n",
    "        return True;\n",
    "    return False,ans"
   ]
  },
  {
   "cell_type": "code",
   "execution_count": 19,
   "metadata": {},
   "outputs": [
    {
     "data": {
      "text/plain": [
       "(False, \"Hell is for bad DO good it's to late \")"
      ]
     },
     "execution_count": 19,
     "metadata": {},
     "output_type": "execute_result"
    }
   ],
   "source": [
    "X=6\n",
    "path=\"file.txt\"\n",
    "fun(path,X)\n"
   ]
  },
  {
   "cell_type": "markdown",
   "metadata": {},
   "source": [
    "Database Connectivity"
   ]
  },
  {
   "cell_type": "code",
   "execution_count": 22,
   "metadata": {},
   "outputs": [],
   "source": [
    "# 1. connet to database\n",
    "import sqlite3\n",
    "con = sqlite3.connect('example.db')"
   ]
  },
  {
   "cell_type": "code",
   "execution_count": 23,
   "metadata": {},
   "outputs": [],
   "source": [
    "cur = con.cursor()\n",
    "\n",
    "# Create table\n",
    "cur.execute('''CREATE TABLE stocks\n",
    "               (date text, trans text, symbol text, qty real, price real)''')\n",
    "\n",
    "# Insert a row of data\n",
    "cur.execute(\"INSERT INTO stocks VALUES ('2006-01-05','BUY','RHAT',100,35.14)\")\n",
    "\n",
    "# Save (commit) the changes\n",
    "con.commit()\n",
    "\n",
    "# We can also close the connection if we are done with it.\n",
    "# Just be sure any changes have been committed or they will be lost.\n",
    "con.close()"
   ]
  },
  {
   "cell_type": "code",
   "execution_count": 24,
   "metadata": {},
   "outputs": [],
   "source": [
    "import sqlite3\n",
    "con = sqlite3.connect('example.db')\n",
    "cur = con.cursor()"
   ]
  },
  {
   "cell_type": "code",
   "execution_count": 25,
   "metadata": {},
   "outputs": [
    {
     "name": "stdout",
     "output_type": "stream",
     "text": [
      "('2006-01-05', 'BUY', 'RHAT', 100.0, 35.14)\n"
     ]
    }
   ],
   "source": [
    "for row in cur.execute('SELECT * FROM stocks ORDER BY price'):\n",
    "    print(row)"
   ]
  },
  {
   "cell_type": "code",
   "execution_count": 26,
   "metadata": {},
   "outputs": [],
   "source": [
    "# 2. Python code to demonstrate table creation and insertions with SQL\n",
    "\n",
    "# importing module\n",
    "import sqlite3\n",
    "\n",
    "# connecting to the database\n",
    "connection = sqlite3.connect(\"myTable.db\")\n",
    "\n",
    "# cursor\n",
    "crsr = connection.cursor()\n",
    "\n",
    "# SQL command to create a table in the database\n",
    "sql_command = \"\"\"CREATE TABLE emp (\n",
    "staff_number INTEGER PRIMARY KEY,\n",
    "fname VARCHAR(20),\n",
    "lname VARCHAR(30),\n",
    "gender CHAR(1),\n",
    "joining DATE);\"\"\"\n",
    "\n",
    "# execute the statement\n",
    "crsr.execute(sql_command)\n",
    "\n",
    "# SQL command to insert the data in the table\n",
    "sql_command = \"\"\"INSERT INTO emp VALUES (23, \"Rishabh\", \"Bansal\", \"M\", \"2014-03-28\");\"\"\"\n",
    "crsr.execute(sql_command)\n",
    "\n",
    "# another SQL command to insert the data in the table\n",
    "sql_command = \"\"\"INSERT INTO emp VALUES (1, \"Bill\", \"Gates\", \"M\", \"1980-10-28\");\"\"\"\n",
    "crsr.execute(sql_command)\n",
    "\n",
    "# To save the changes in the files. Never skip this.\n",
    "# If we skip this, nothing will be saved in the database.\n",
    "connection.commit()\n",
    "\n",
    "# close the connection\n",
    "connection.close()\n"
   ]
  },
  {
   "cell_type": "code",
   "execution_count": 27,
   "metadata": {},
   "outputs": [
    {
     "name": "stdout",
     "output_type": "stream",
     "text": [
      "[(1, 'Bill', 'Gates', 'M', '1980-10-28'), (23, 'Rishabh', 'Bansal', 'M', '2014-03-28')]\n"
     ]
    }
   ],
   "source": [
    "# 3.  Python code to demonstrate SQL to fetch data. \n",
    "#importing the module\n",
    "import sqlite3\n",
    "\n",
    "# connect withe the myTable database\n",
    "connection = sqlite3.connect(\"myTable.db\")\n",
    "\n",
    "# cursor object\n",
    "crsr = connection.cursor()\n",
    "\n",
    "# execute the command to fetch all the data from the table emp\n",
    "crsr.execute(\"SELECT * FROM emp\")\n",
    "\n",
    "# store all the fetched data in the ans variable\n",
    "ans = crsr.fetchall()\n",
    "\n",
    "print(ans)\n"
   ]
  },
  {
   "cell_type": "code",
   "execution_count": 32,
   "metadata": {},
   "outputs": [
    {
     "name": "stdout",
     "output_type": "stream",
     "text": [
      "Enter 5 students names:\n",
      "Naman\n",
      "namish\n",
      "jalaj\n",
      "manas\n",
      "kamli\n",
      "Enter their ages respectively:\n",
      "21\n",
      "21\n",
      "21\n",
      "21\n",
      "21\n",
      "Enter their ids respectively:\n",
      "77\n",
      "78\n",
      "71\n",
      "76\n",
      "73\n",
      "[('Naman', 21, 77)]\n",
      "[('Naman', 21, 77), ('namish', 21, 78)]\n",
      "[('Naman', 21, 77), ('namish', 21, 78), ('jalaj', 21, 71)]\n",
      "[('Naman', 21, 77), ('namish', 21, 78), ('jalaj', 21, 71), ('manas', 21, 76)]\n",
      "[('Naman', 21, 77), ('namish', 21, 78), ('jalaj', 21, 71), ('manas', 21, 76), ('kamli', 21, 73)]\n"
     ]
    }
   ],
   "source": [
    "# 4. code for executing query using input data\n",
    "import sqlite3\n",
    "\n",
    "# creates a database in RAM\n",
    "con = sqlite3.connect(\":memory:\")\n",
    "cur = con.cursor()\n",
    "cur.execute(\"create table person (name, age, id)\")\n",
    "\n",
    "print (\"Enter 5 students names:\")\n",
    "who = [input() for i in range(5)]\n",
    "print (\"Enter their ages respectively:\")\n",
    "age = [int(input()) for i in range(5)]\n",
    "print (\"Enter their ids respectively:\")\n",
    "p_id = [int(input()) for i in range(5)]\n",
    "n = len(who)\n",
    "\n",
    "for i in range(n):\n",
    "\n",
    "    # This is the q-mark style:\n",
    "    cur.execute(\"insert into person values (?, ?, ?)\", (who[i], age[i], p_id[i]))\n",
    "\n",
    "    # And this is the named style:\n",
    "    cur.execute(\"select * from person\")\n",
    "\n",
    "    # Fetches all entries from table\n",
    "    print (cur.fetchall())\n"
   ]
  }
 ],
 "metadata": {
  "kernelspec": {
   "display_name": "Python 3",
   "language": "python",
   "name": "python3"
  },
  "language_info": {
   "codemirror_mode": {
    "name": "ipython",
    "version": 3
   },
   "file_extension": ".py",
   "mimetype": "text/x-python",
   "name": "python",
   "nbconvert_exporter": "python",
   "pygments_lexer": "ipython3",
   "version": "3.7.6"
  }
 },
 "nbformat": 4,
 "nbformat_minor": 4
}
