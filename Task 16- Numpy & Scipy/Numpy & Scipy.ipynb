{
 "cells": [
  {
   "cell_type": "markdown",
   "metadata": {},
   "source": [
    "Descriptive Statistics"
   ]
  },
  {
   "cell_type": "code",
   "execution_count": 1,
   "metadata": {},
   "outputs": [
    {
     "name": "stdout",
     "output_type": "stream",
     "text": [
      "[[10.   8.  15.  11.5]\n",
      " [14.   9.   7.5 11. ]\n",
      " [11.  17.  11.5  9. ]\n",
      " [ 7.  14.5 10.  12. ]\n",
      " [ 9.5 12.  10.5 14. ]\n",
      " [15.  18.   7.  12. ]\n",
      " [19.  15.5 11.   7.5]]\n"
     ]
    }
   ],
   "source": [
    "# 1. mean\n",
    "import numpy as np\n",
    "A = np.array([[10,14,11,7,9.5,15,19],[8,9,17,14.5,12,18,15.5],\n",
    "    [15,7.5,11.5,10,10.5,7,11],[11.5,11,9,12,14,12,7.5]])\n",
    "B = A.T\n",
    "print (B)"
   ]
  },
  {
   "cell_type": "code",
   "execution_count": 2,
   "metadata": {},
   "outputs": [
    {
     "name": "stdout",
     "output_type": "stream",
     "text": [
      "11.75\n"
     ]
    }
   ],
   "source": [
    "print(np.mean(B))"
   ]
  },
  {
   "cell_type": "code",
   "execution_count": 3,
   "metadata": {},
   "outputs": [
    {
     "name": "stdout",
     "output_type": "stream",
     "text": [
      "[12.21428571 13.42857143 10.35714286 11.        ]\n"
     ]
    }
   ],
   "source": [
    "print(np.mean(B,axis=0))"
   ]
  },
  {
   "cell_type": "code",
   "execution_count": 4,
   "metadata": {},
   "outputs": [
    {
     "name": "stdout",
     "output_type": "stream",
     "text": [
      "[12.21428571 13.42857143 10.35714286 11.        ]\n"
     ]
    }
   ],
   "source": [
    "print(np.mean(A,axis=1))"
   ]
  },
  {
   "cell_type": "code",
   "execution_count": 5,
   "metadata": {},
   "outputs": [],
   "source": [
    "# 2. median\n",
    "a=np.median(B, axis=0)\n",
    "b=np.median(B, axis=1)"
   ]
  },
  {
   "cell_type": "code",
   "execution_count": 6,
   "metadata": {},
   "outputs": [
    {
     "data": {
      "text/plain": [
       "array([11. , 14.5, 10.5, 11.5])"
      ]
     },
     "execution_count": 6,
     "metadata": {},
     "output_type": "execute_result"
    }
   ],
   "source": [
    "a"
   ]
  },
  {
   "cell_type": "code",
   "execution_count": 7,
   "metadata": {},
   "outputs": [
    {
     "data": {
      "text/plain": [
       "array([10.75, 10.  , 11.25, 11.  , 11.25, 13.5 , 13.25])"
      ]
     },
     "execution_count": 7,
     "metadata": {},
     "output_type": "execute_result"
    }
   ],
   "source": [
    "b"
   ]
  },
  {
   "cell_type": "code",
   "execution_count": 8,
   "metadata": {},
   "outputs": [],
   "source": [
    "# 3. mode\n",
    "from scipy import stats\n",
    "\n",
    "a=stats.mode(B,axis=0)\n",
    "b=stats.mode(B,axis=1)"
   ]
  },
  {
   "cell_type": "code",
   "execution_count": 9,
   "metadata": {},
   "outputs": [
    {
     "data": {
      "text/plain": [
       "ModeResult(mode=array([[ 7.,  8.,  7., 12.]]), count=array([[1, 1, 1, 2]]))"
      ]
     },
     "execution_count": 9,
     "metadata": {},
     "output_type": "execute_result"
    }
   ],
   "source": [
    "a"
   ]
  },
  {
   "cell_type": "code",
   "execution_count": 10,
   "metadata": {},
   "outputs": [
    {
     "data": {
      "text/plain": [
       "ModeResult(mode=array([[8. ],\n",
       "       [7.5],\n",
       "       [9. ],\n",
       "       [7. ],\n",
       "       [9.5],\n",
       "       [7. ],\n",
       "       [7.5]]), count=array([[1],\n",
       "       [1],\n",
       "       [1],\n",
       "       [1],\n",
       "       [1],\n",
       "       [1],\n",
       "       [1]]))"
      ]
     },
     "execution_count": 10,
     "metadata": {},
     "output_type": "execute_result"
    }
   ],
   "source": [
    "b"
   ]
  },
  {
   "cell_type": "code",
   "execution_count": 11,
   "metadata": {},
   "outputs": [],
   "source": [
    "# 4. range \n",
    "a=np.ptp(B, axis=0)\n",
    "b=np.ptp(B,axis=1)"
   ]
  },
  {
   "cell_type": "code",
   "execution_count": 12,
   "metadata": {},
   "outputs": [
    {
     "data": {
      "text/plain": [
       "array([12. , 10. ,  8. ,  6.5])"
      ]
     },
     "execution_count": 12,
     "metadata": {},
     "output_type": "execute_result"
    }
   ],
   "source": [
    "a"
   ]
  },
  {
   "cell_type": "code",
   "execution_count": 13,
   "metadata": {},
   "outputs": [
    {
     "data": {
      "text/plain": [
       "array([ 7. ,  6.5,  8. ,  7.5,  4.5, 11. , 11.5])"
      ]
     },
     "execution_count": 13,
     "metadata": {},
     "output_type": "execute_result"
    }
   ],
   "source": [
    "b"
   ]
  },
  {
   "cell_type": "code",
   "execution_count": 14,
   "metadata": {},
   "outputs": [],
   "source": [
    "# 5. variance\n",
    "\n",
    "a = np.var(B,axis=0)\n",
    "b = np.var(B,axis=1)"
   ]
  },
  {
   "cell_type": "code",
   "execution_count": 15,
   "metadata": {},
   "outputs": [
    {
     "data": {
      "text/plain": [
       "array([13.98979592, 12.8877551 ,  6.12244898,  3.92857143])"
      ]
     },
     "execution_count": 15,
     "metadata": {},
     "output_type": "execute_result"
    }
   ],
   "source": [
    "a"
   ]
  },
  {
   "cell_type": "code",
   "execution_count": 16,
   "metadata": {},
   "outputs": [
    {
     "data": {
      "text/plain": [
       "array([ 6.546875,  5.921875,  8.796875,  7.546875,  2.875   , 16.5     ,\n",
       "       19.0625  ])"
      ]
     },
     "execution_count": 16,
     "metadata": {},
     "output_type": "execute_result"
    }
   ],
   "source": [
    "b"
   ]
  },
  {
   "cell_type": "markdown",
   "metadata": {},
   "source": [
    "Random numbers, Random Variables and random distributions with numpy and scipy"
   ]
  },
  {
   "cell_type": "code",
   "execution_count": 17,
   "metadata": {},
   "outputs": [
    {
     "name": "stdout",
     "output_type": "stream",
     "text": [
      "1D Array filled with random values : \n",
      " [0.85251309 0.88822347 0.7414349  0.85931329 0.6789051 ]\n"
     ]
    }
   ],
   "source": [
    "# 1. Python Program illustrating numpy.random.rand() method\n",
    "\n",
    "import numpy as np\n",
    "\n",
    "# 1D Array\n",
    "array = np.random.rand(5)\n",
    "print(\"1D Array filled with random values : \\n\", array)\n"
   ]
  },
  {
   "cell_type": "code",
   "execution_count": 19,
   "metadata": {},
   "outputs": [
    {
     "data": {
      "text/plain": [
       "array([-1.6911091 ,  0.42181106,  0.4237011 , -0.25668623,  0.67920043])"
      ]
     },
     "execution_count": 19,
     "metadata": {},
     "output_type": "execute_result"
    }
   ],
   "source": [
    "# Python Program illustrating\n",
    "# numpy.random.normal() method\n",
    "\n",
    "# 1D Array\n",
    "array = np.random.normal(0.0, 1.0, 5)\n",
    "array"
   ]
  },
  {
   "cell_type": "code",
   "execution_count": 21,
   "metadata": {},
   "outputs": [
    {
     "data": {
      "text/plain": [
       "array([[[ 1.14381099,  2.00056115]],\n",
       "\n",
       "       [[ 0.10991284, -0.03509333]]])"
      ]
     },
     "execution_count": 21,
     "metadata": {},
     "output_type": "execute_result"
    }
   ],
   "source": [
    "# 3D Array\n",
    "array = np.random.normal(0.0, 1.0, (2, 1, 2))\n",
    "array"
   ]
  },
  {
   "cell_type": "code",
   "execution_count": 22,
   "metadata": {},
   "outputs": [
    {
     "data": {
      "text/plain": [
       "array([-7.07447845e-02, -2.58595372e-02,  4.16916991e-02, -6.01122240e-03,\n",
       "       -7.52844860e-02,  1.09680964e-01, -8.40265381e-02, -1.35502884e-01,\n",
       "        1.81230408e-01,  1.77494571e-01,  3.75904898e-02,  8.39690628e-02,\n",
       "       -6.58991465e-02, -5.09002855e-02,  4.54163165e-02, -8.24901948e-02,\n",
       "       -1.65730526e-01,  1.29360399e-01, -5.26103690e-02, -5.75719691e-02,\n",
       "       -1.07636820e-01,  1.15152113e-01, -7.27912844e-02, -1.30108396e-01,\n",
       "        2.36336417e-02,  8.44407207e-02, -1.01108378e-01, -2.84081673e-02,\n",
       "        2.46665245e-02,  3.55475041e-02, -2.43431534e-02,  4.74914948e-02,\n",
       "        1.21565931e-01, -2.94675579e-02, -2.46591215e-02,  2.43567072e-02,\n",
       "       -1.83706724e-02, -1.53358192e-02, -1.21115260e-01, -1.20603367e-02,\n",
       "        5.08167357e-02,  1.78986415e-02,  1.25463270e-01,  5.47363849e-02,\n",
       "        4.52283324e-02, -7.16414006e-02, -1.17533961e-02,  7.95786370e-02,\n",
       "        1.17018223e-03,  2.51948619e-02,  6.98235956e-02, -2.17516409e-02,\n",
       "        9.51027869e-02, -1.69734525e-03,  1.05683441e-01, -1.63227056e-01,\n",
       "        4.04352884e-02, -4.63804640e-02,  2.36700017e-02,  2.95024328e-02,\n",
       "       -9.66358904e-02, -8.60949259e-02,  2.02498565e-01,  9.71375704e-02,\n",
       "       -1.05308616e-01, -1.28982599e-01,  6.74645714e-02,  8.31440282e-02,\n",
       "       -7.50856747e-02, -4.35532647e-03,  1.12507970e-01,  6.76411069e-02,\n",
       "       -5.24115065e-02, -1.01611752e-01,  8.07282003e-03,  4.37365148e-02,\n",
       "        7.99497575e-02, -8.21405011e-03,  6.51716066e-02,  6.13205796e-02,\n",
       "       -1.11201716e-01,  1.16292777e-01,  1.45827614e-01, -2.04061621e-02,\n",
       "       -3.28279302e-02, -3.99821169e-02,  4.07563331e-02,  1.20612839e-01,\n",
       "        5.73184123e-02, -2.17596107e-01,  4.87876704e-02, -4.00336681e-02,\n",
       "        1.08401062e-01,  1.47344603e-01, -9.47649606e-02,  4.58040760e-02,\n",
       "        6.29868695e-02, -3.92615591e-02,  7.53080796e-02, -5.34010576e-02,\n",
       "       -1.23215193e-01,  2.46886564e-02, -1.02080821e-01, -3.78207207e-02,\n",
       "       -5.94201440e-02,  9.54518565e-02, -4.31643344e-02,  3.89190800e-02,\n",
       "        1.15214526e-01,  6.33251372e-02, -4.30662573e-02,  9.75050410e-02,\n",
       "        2.68892798e-02, -5.33862883e-02,  1.15210259e-01,  1.90647612e-01,\n",
       "        8.26257069e-02, -8.41707020e-02, -2.09701903e-01,  1.47874508e-01,\n",
       "       -1.03852195e-01,  1.68289362e-01,  1.36545704e-03,  5.08556025e-02,\n",
       "       -1.41280854e-01,  5.97104899e-02,  1.03036356e-01, -1.40951008e-01,\n",
       "        9.44262334e-02,  3.80630547e-02,  9.26815326e-02, -4.67862526e-02,\n",
       "       -1.99526099e-01, -2.00148000e-02,  7.58246802e-02, -1.66854865e-01,\n",
       "        1.52834398e-01,  1.27758054e-01,  3.66813148e-03, -4.40741649e-02,\n",
       "        4.14035090e-02, -6.22655478e-02, -1.07523202e-01, -7.52431448e-02,\n",
       "       -4.98787275e-02,  5.55019415e-02, -4.66680023e-03,  1.15968741e-01,\n",
       "       -1.44470839e-01,  4.81548603e-02,  1.38195721e-01,  2.77959053e-02,\n",
       "        7.37811288e-02, -1.09888627e-01,  3.43424557e-02,  1.33565076e-01,\n",
       "       -7.89625112e-02,  6.35641211e-02,  1.60078969e-01,  7.18788092e-02,\n",
       "       -1.48489922e-01, -1.58360591e-01,  7.42518375e-03, -1.91598938e-01,\n",
       "       -4.05669652e-02, -3.78628813e-02,  8.37538203e-02, -6.46896532e-02,\n",
       "        2.25459755e-02, -6.43047745e-02, -3.11398822e-02, -2.37150267e-02,\n",
       "       -1.04794150e-02,  1.88338588e-01,  1.40625727e-01,  1.14296115e-01,\n",
       "        5.83734231e-02, -4.43236987e-02,  3.99214794e-02,  7.46035365e-03,\n",
       "        7.88844605e-02,  3.55455454e-02,  4.32077279e-02,  7.29736999e-02,\n",
       "       -3.34966888e-02, -3.46740870e-02, -1.11749059e-01,  6.87478360e-02,\n",
       "        2.08330901e-01, -1.95708668e-01,  1.26283016e-02,  9.74469106e-02,\n",
       "       -1.68644841e-01,  2.42141821e-01, -2.00610614e-02, -4.15423432e-02,\n",
       "        1.11491467e-02,  4.62656431e-02,  2.89631663e-02, -3.86171617e-02,\n",
       "       -7.39174551e-02, -3.11859486e-02,  7.69651379e-02,  5.41160292e-02,\n",
       "       -8.76606071e-02,  2.08984933e-02,  8.97995159e-02, -7.77557085e-02,\n",
       "        4.06131335e-02, -4.21395587e-03,  1.04684559e-02,  1.08077391e-01,\n",
       "        6.81556022e-02,  1.32248118e-01,  4.30148514e-02, -1.96058640e-01,\n",
       "       -1.81309056e-02,  1.39923356e-01, -5.31453326e-02, -1.19532651e-02,\n",
       "        1.36812644e-01,  9.42885255e-02, -3.70124123e-02, -1.09844338e-01,\n",
       "        2.30457676e-03, -2.44319847e-03,  1.04895550e-01, -2.43096177e-02,\n",
       "        1.46256526e-02, -5.91636900e-04,  1.56844924e-02, -9.39765211e-02,\n",
       "        1.38208105e-01, -6.08062737e-02, -1.76884231e-01, -5.17388816e-02,\n",
       "        9.67271000e-02,  6.50046712e-02,  2.80186098e-02,  3.99063150e-02,\n",
       "       -1.47491760e-01, -6.20791285e-02, -1.02828663e-01, -9.02105907e-02,\n",
       "        1.48952651e-01,  8.21607409e-02, -6.72466289e-02,  1.09355788e-01,\n",
       "        3.46952023e-02, -2.75560791e-02, -2.25658878e-02,  6.61882724e-02,\n",
       "       -2.76922745e-02,  4.90858746e-02,  4.28939175e-02,  1.02844560e-01,\n",
       "        6.68684469e-02, -4.18779289e-02, -1.47472022e-01,  4.73001887e-02,\n",
       "       -4.86234989e-02,  6.79712022e-02,  1.31317716e-01,  6.23418921e-02,\n",
       "       -1.74895481e-01, -4.10678160e-02,  2.41943134e-01, -9.12536861e-02,\n",
       "        7.61828484e-02,  3.90273148e-02,  1.00509448e-01,  7.13997027e-02,\n",
       "       -1.65623897e-02, -2.04182148e-01, -4.66159416e-02,  7.91736719e-02,\n",
       "       -6.68075761e-02, -8.28618970e-02, -1.06190946e-02, -2.02833556e-02,\n",
       "        2.67944577e-02, -4.40487221e-02, -6.19798645e-03,  3.63860716e-02,\n",
       "        1.69001492e-01,  1.18977728e-01,  7.74595804e-03,  8.17816362e-02,\n",
       "        9.53283089e-03,  4.72326572e-02, -2.30064015e-01, -1.09292227e-01,\n",
       "       -2.01594289e-02, -1.31195567e-01,  1.34600897e-01, -5.83416575e-02,\n",
       "       -1.75028549e-01, -1.23278207e-02, -4.33653400e-03, -1.16395913e-01,\n",
       "        9.22385976e-02,  4.38520493e-02,  8.07205091e-02, -3.20432207e-03,\n",
       "       -8.78892261e-02, -7.00669361e-02, -1.94628267e-02,  6.77803167e-02,\n",
       "       -3.02264342e-02,  2.13660518e-02, -3.22434745e-02, -4.95436895e-02,\n",
       "       -4.07306740e-02, -1.18953470e-01,  2.35426055e-02, -1.04495613e-01,\n",
       "        1.64174971e-01,  1.05630260e-01,  2.85723731e-03,  2.08845176e-01,\n",
       "       -5.77002846e-02, -7.26722045e-03,  3.18824227e-02,  1.66615175e-01,\n",
       "       -2.15235899e-02,  5.75018581e-03,  2.60382853e-02,  1.41803614e-02,\n",
       "       -2.13448811e-01,  1.71069931e-01, -1.47796535e-02, -6.37839362e-02,\n",
       "        1.54702407e-01, -1.41068717e-01, -7.59651035e-02, -5.62662014e-02,\n",
       "       -1.10348699e-01, -1.04639041e-01,  1.41623366e-01,  3.99943756e-02,\n",
       "        8.95101959e-02, -6.80974447e-02, -1.39434337e-01, -6.84537945e-02,\n",
       "       -3.05214708e-01,  1.47912572e-01, -4.74293381e-02, -1.02828055e-01,\n",
       "       -4.18200762e-02, -1.48806292e-01, -1.01102819e-01,  7.92211344e-02,\n",
       "        6.68962851e-02,  2.10174104e-01,  1.74613216e-01,  9.59139567e-02,\n",
       "        4.97318149e-03,  6.35848879e-02, -6.33224436e-02,  7.52086886e-02,\n",
       "       -9.00800661e-02, -4.74828712e-02, -9.34008415e-02, -2.11733662e-02,\n",
       "        1.67821198e-01,  7.62492285e-02,  1.45571765e-01, -7.69135027e-02,\n",
       "       -8.16541123e-02, -2.34055173e-02,  1.00659182e-01,  1.64767586e-01,\n",
       "        1.88606956e-01,  2.21813379e-02,  1.99634182e-02, -1.44705846e-01,\n",
       "        3.59590676e-03, -1.68135786e-02, -1.17142866e-01, -3.53346161e-04,\n",
       "       -7.11688975e-02, -1.10970654e-03,  1.56123382e-01, -4.81305728e-02,\n",
       "       -2.07492919e-01, -9.25309785e-03, -5.05880797e-02,  1.25840834e-02,\n",
       "        3.03936551e-02,  1.01685808e-01, -1.19028465e-01,  6.01850868e-02,\n",
       "       -1.27153297e-01,  1.17276888e-01,  4.96384040e-02,  3.18175884e-02,\n",
       "       -6.30766335e-02,  1.56139190e-02, -9.22351358e-02,  1.47335958e-01,\n",
       "       -1.35129621e-02,  3.93025933e-03, -1.82835276e-02, -2.55330320e-02,\n",
       "        4.91461361e-02,  5.02000579e-02, -8.69749728e-02,  1.18958555e-01,\n",
       "       -3.87878720e-02, -1.10939335e-02, -2.53760860e-03, -2.96668413e-02,\n",
       "        7.66842459e-03,  4.65993370e-02,  3.40805940e-02,  1.03616975e-02,\n",
       "        1.26004671e-01,  1.72342154e-01,  1.20215201e-02, -1.50549620e-02,\n",
       "        8.90374485e-02,  3.02978153e-02,  3.89815567e-02, -1.84335271e-01,\n",
       "        1.39225310e-01,  9.95369212e-02, -1.65136810e-01, -1.84136444e-02,\n",
       "        3.37815128e-02, -4.64568437e-02, -3.86114849e-02,  4.97724286e-02,\n",
       "       -8.63605007e-02, -6.83064809e-02,  1.52570555e-02,  6.87143049e-02,\n",
       "       -8.90732588e-02,  7.00531731e-02,  3.75767031e-02,  1.65704569e-01,\n",
       "        7.20225319e-02,  9.44169769e-02,  5.31374415e-03,  2.01242705e-02,\n",
       "       -8.31657102e-03, -5.81317208e-02,  4.06392994e-02,  1.25407579e-01,\n",
       "       -1.34470609e-02,  4.79973481e-02,  1.22495196e-01,  1.22893908e-01,\n",
       "       -1.21565870e-02, -1.23150024e-01,  1.65981868e-01, -1.63986140e-01,\n",
       "        1.14651449e-01, -9.01482630e-02,  5.08205266e-02,  2.34458218e-01,\n",
       "        2.18855446e-02, -1.40288908e-02,  1.13343886e-02,  7.58996703e-02,\n",
       "        1.97022335e-02, -1.61539119e-01,  3.25392181e-03, -3.79265916e-02,\n",
       "       -3.79093428e-02,  1.84067608e-02, -7.78228338e-02, -9.74036622e-02,\n",
       "       -5.62656214e-02, -1.23988896e-02, -2.79785598e-02,  6.26200220e-02,\n",
       "        2.76057614e-01, -1.57637202e-01, -1.22672374e-01,  1.34174448e-01,\n",
       "       -2.65096546e-02, -4.32162774e-02,  9.75752722e-03, -1.51568392e-01,\n",
       "        1.04151788e-01,  3.93126666e-02,  1.68195831e-02, -2.08838559e-01,\n",
       "       -1.20912400e-03, -4.50823907e-02, -3.71540683e-02, -1.35869385e-01,\n",
       "        1.01789828e-01,  7.73615031e-03, -9.83372091e-02,  7.85813948e-02,\n",
       "        7.72285802e-02,  1.65737409e-01, -1.26540269e-01,  2.00594664e-01,\n",
       "        1.02521342e-01, -2.21731403e-01,  1.51020726e-01, -5.39907916e-02,\n",
       "       -1.59106729e-01, -4.30471630e-02,  2.76892931e-02, -1.27308708e-01,\n",
       "       -4.01010832e-02,  7.25504514e-02, -3.69240622e-02,  1.84295776e-01,\n",
       "       -7.58925252e-02, -7.56337590e-03, -1.22985954e-01, -1.41769025e-01,\n",
       "        2.24602033e-01, -5.34696229e-02,  5.92013835e-02,  1.10809766e-01,\n",
       "        2.55591464e-03,  5.78298773e-02, -1.83413351e-01, -7.14368988e-02,\n",
       "       -1.34170858e-01,  4.30932779e-02, -8.08201402e-02,  7.93751649e-02,\n",
       "        3.87018817e-02,  7.25626691e-02, -1.18085296e-01, -1.01341056e-01,\n",
       "       -2.53670905e-02, -3.16850350e-02,  3.70579152e-02, -2.98594772e-04,\n",
       "        1.00087387e-01,  6.93825607e-02, -6.99992205e-02, -6.34096175e-02,\n",
       "       -3.40528018e-02,  1.33919907e-01,  5.94187841e-02,  1.09352653e-02,\n",
       "       -6.54796707e-03, -8.50168943e-02,  1.03828547e-01, -7.83548825e-02,\n",
       "        2.15118688e-02, -2.79573277e-01, -6.23677449e-02,  3.10159265e-02,\n",
       "        1.74508498e-02, -4.14458399e-02, -1.89016074e-02,  4.18741060e-02,\n",
       "        3.74364456e-02, -1.49157576e-01,  1.88115546e-01,  5.22765564e-02,\n",
       "        6.59942187e-03, -1.65830393e-01,  6.51438116e-03, -4.12428168e-02,\n",
       "        1.92394242e-01,  4.81099694e-02,  8.28635922e-03, -2.06286765e-01,\n",
       "        5.57949272e-02,  3.81514174e-02,  8.63420707e-04,  3.32524822e-02,\n",
       "       -5.26097917e-02, -6.85723480e-02,  8.45794590e-02, -2.31792757e-02,\n",
       "        1.41752209e-01, -2.30707410e-02, -9.15841787e-02,  7.66861820e-02,\n",
       "        2.86006837e-02, -1.64375421e-02, -4.94302678e-02, -2.30510529e-02,\n",
       "       -3.34080055e-02,  4.34272939e-02, -6.05794759e-02,  1.56227210e-01,\n",
       "       -9.56140345e-02, -2.71431920e-02,  2.55634746e-02, -7.55270019e-02,\n",
       "        1.92717874e-01, -1.61807279e-01,  6.17647260e-03,  5.54418157e-02,\n",
       "        2.27868098e-01,  2.94728659e-03,  5.78772899e-03,  1.61349564e-01,\n",
       "        1.05110916e-01, -8.54963504e-02, -7.88041364e-02,  8.41285530e-02,\n",
       "        4.83718350e-02,  4.96304897e-02,  3.19343370e-03, -1.20859505e-01,\n",
       "        3.49125963e-02, -1.03134048e-01, -1.48244672e-01,  2.16740722e-01,\n",
       "       -1.68377645e-02, -1.99974089e-02, -4.95183747e-02,  2.31130025e-02,\n",
       "        1.22660784e-01, -3.05620388e-02, -3.20489332e-02,  2.23188668e-02,\n",
       "        1.96780940e-01,  2.35860350e-02,  3.72361800e-02, -1.59965114e-01,\n",
       "       -1.54192732e-01,  1.52838218e-01, -3.19335452e-02, -1.22951537e-01,\n",
       "        3.71746055e-03,  6.88872571e-02, -2.31243829e-01,  1.76818551e-02,\n",
       "       -4.39496739e-02, -1.18890556e-01, -9.03230592e-03,  7.77309717e-02,\n",
       "        2.71967734e-02,  1.16346457e-01, -1.21006114e-01,  1.11782094e-01,\n",
       "       -7.99796461e-02,  3.45427496e-03,  1.62635609e-01,  7.39894104e-02,\n",
       "       -5.47246377e-02,  1.75963019e-01, -1.64460800e-02,  1.48175761e-01,\n",
       "       -1.84534067e-02,  6.88655680e-02, -3.55636457e-02,  1.27526955e-01,\n",
       "       -8.39518047e-02, -2.36747765e-02,  1.74478869e-02, -2.85157680e-02,\n",
       "        4.82127320e-02,  2.07254816e-02, -5.38874999e-02,  1.40609355e-01,\n",
       "       -1.47785537e-02,  8.03912179e-02, -2.84928758e-02,  6.15845901e-02,\n",
       "        1.52422865e-01,  1.22903236e-01,  5.33766956e-02, -1.01696724e-01,\n",
       "       -2.53804629e-01, -7.84947485e-02, -8.71352718e-02,  3.88639988e-02,\n",
       "       -1.34375843e-01,  8.95649716e-02,  4.84665612e-02,  3.08214442e-02,\n",
       "        1.23402080e-01, -1.43057649e-01, -1.18590721e-01, -5.09216685e-02,\n",
       "        1.00440987e-01, -3.10560002e-02,  4.35984499e-02,  3.41764599e-02,\n",
       "        4.78774145e-02,  1.15892077e-01, -1.42720232e-02, -1.03597109e-03,\n",
       "       -1.22152938e-01, -4.93570116e-03,  6.05934714e-02, -3.93314417e-02,\n",
       "       -1.17143537e-01,  9.47283473e-02, -6.29638696e-02,  8.36504379e-02,\n",
       "       -1.63857691e-01,  1.19053992e-01, -1.22620985e-01,  2.00058112e-02,\n",
       "        1.28429656e-01, -2.48344857e-02, -1.36930662e-01, -8.49059291e-02,\n",
       "       -3.91608098e-02,  1.81499616e-01, -1.13255127e-01, -1.19163933e-01,\n",
       "        1.19251098e-01,  3.82285979e-02, -6.17022258e-02,  4.72968001e-02,\n",
       "       -3.10112425e-02, -2.48315887e-01, -7.89963495e-02,  6.33627518e-03,\n",
       "        3.81505851e-02, -2.26292334e-02, -4.27705726e-02,  7.72188941e-02,\n",
       "        9.76417951e-02, -5.44877867e-02,  1.79287182e-01,  1.33218023e-01,\n",
       "       -3.18221730e-03, -7.20253851e-03,  3.93560003e-03,  3.44696114e-02,\n",
       "       -1.71537159e-03, -2.26477459e-02,  6.36123016e-02, -1.70581794e-01,\n",
       "        8.82360084e-02, -4.45740857e-02,  3.87073301e-02,  2.20258349e-01,\n",
       "        1.38413386e-02,  1.32163715e-01, -2.07814234e-01,  4.45067311e-02,\n",
       "       -4.08301675e-02,  7.87244278e-02, -1.80800538e-01,  1.37427887e-01,\n",
       "        1.64931033e-01,  1.89264427e-01, -6.91640424e-02,  1.35553536e-02,\n",
       "        1.00585998e-01,  1.92422469e-02,  3.06850405e-02, -4.12159698e-02,\n",
       "       -3.59763079e-02, -4.02780055e-02, -1.32170492e-01, -8.84633886e-02,\n",
       "       -1.44933106e-02, -1.98463249e-02,  1.88353870e-01,  1.36491941e-01,\n",
       "        1.28852126e-01,  3.08840836e-02, -4.44134740e-02, -4.34994959e-02,\n",
       "        8.10199244e-02, -1.58888746e-01,  4.11720194e-02,  1.57823445e-01,\n",
       "        1.22091983e-01, -7.28707719e-02, -1.51189344e-01,  1.11548775e-01,\n",
       "        1.65032579e-01,  4.19283763e-02, -2.62174021e-02, -2.35174815e-01,\n",
       "       -3.58252255e-02, -9.99900467e-02, -7.20655225e-02, -5.22250412e-02,\n",
       "        3.08343835e-02, -8.23362232e-02,  1.30931588e-01, -3.89095565e-02,\n",
       "        1.13148640e-01, -1.11390193e-01, -5.97042578e-02, -1.09679245e-01,\n",
       "       -2.02263243e-02, -1.58568467e-01,  7.44549624e-02,  8.14927809e-02,\n",
       "       -9.49563986e-02, -1.38222899e-01,  7.58498056e-02, -9.74716332e-02,\n",
       "        2.08407506e-01,  1.25015671e-01,  8.42404016e-02, -1.22915078e-01,\n",
       "        1.99025462e-03,  1.61791191e-01,  5.12013385e-02,  1.29527738e-01,\n",
       "       -6.31992256e-02,  8.31469442e-02, -1.46815035e-01, -1.17367271e-01,\n",
       "       -4.57371268e-02, -3.21537929e-02, -1.55371953e-01, -1.84563460e-01,\n",
       "        1.22095411e-01,  6.87500317e-03,  3.12740610e-02, -7.83585926e-02,\n",
       "       -8.08147958e-02,  5.69987685e-03,  1.18852905e-01,  1.08831811e-01,\n",
       "        8.73592514e-02, -3.48550087e-02, -6.26501913e-02,  1.02811963e-01,\n",
       "       -5.88790121e-02,  7.14114083e-03,  2.05823061e-02, -8.16769560e-02,\n",
       "       -5.31573480e-02, -2.34182883e-01,  1.85661278e-01,  8.11333529e-02,\n",
       "       -2.07592475e-02,  6.46781027e-02,  9.41896250e-04,  1.55018138e-01,\n",
       "        1.77031303e-01, -1.44843624e-01,  2.71410353e-02, -1.80352884e-01,\n",
       "       -1.55718179e-01,  4.39685813e-02,  2.87993486e-02,  7.63268258e-02,\n",
       "       -1.08547338e-01,  2.50112551e-02,  3.75103837e-02, -4.86355017e-02,\n",
       "        5.98113982e-02,  8.73279479e-02, -8.04914038e-02, -2.42240826e-02,\n",
       "        5.65413504e-02,  2.49797488e-02, -4.25769796e-02, -2.17544788e-02,\n",
       "        3.35439426e-02,  4.82636177e-02, -4.57513690e-02,  4.64841587e-02,\n",
       "        5.07308203e-02,  1.38573996e-01, -1.10265866e-02,  3.60969945e-02,\n",
       "        1.03360019e-01, -1.36267313e-03, -2.03678310e-01, -8.60957465e-02,\n",
       "        1.25163544e-01,  7.77231351e-03, -1.62187606e-01, -2.07718461e-02,\n",
       "       -6.28982596e-02,  5.64425232e-02, -1.02813781e-02,  1.75628691e-02,\n",
       "       -9.32784718e-03, -5.47119367e-02,  7.70716801e-02,  4.19277882e-03,\n",
       "       -2.49763593e-03, -1.68311258e-02, -9.65376286e-03,  6.18790280e-02,\n",
       "       -1.34941531e-03,  5.92977051e-02,  2.89586611e-02, -1.21864721e-01,\n",
       "       -2.46649760e-01, -2.45571660e-01,  1.24892590e-01,  6.65436722e-02,\n",
       "        3.76060642e-02, -1.19363936e-01,  2.00891832e-01, -7.34946406e-02,\n",
       "       -4.38386872e-03,  9.62873602e-02,  5.34805056e-02, -1.63369865e-01,\n",
       "        1.29240848e-01,  6.87377243e-03,  8.27920867e-03, -7.40790090e-02,\n",
       "       -8.52404859e-03, -4.09486247e-03, -8.64928059e-02,  8.40994408e-02,\n",
       "        5.45506695e-02, -1.18409695e-01,  2.05185703e-02, -4.96205232e-02,\n",
       "       -2.76650553e-02, -8.83079603e-02,  1.54992317e-01, -1.17870622e-01,\n",
       "        6.52618596e-03,  6.51704875e-02, -6.97677557e-02, -9.94036241e-02,\n",
       "        3.87952664e-02, -4.73098075e-02, -4.30599811e-02, -3.90703195e-02,\n",
       "        8.30527757e-02, -7.12233186e-02, -3.76398976e-02, -7.40630261e-02,\n",
       "        1.91594720e-02, -6.39371055e-02,  5.43016268e-02,  6.98354952e-02,\n",
       "        1.75659552e-01,  8.94486972e-02,  2.05367877e-01,  3.58739534e-02,\n",
       "       -2.56608198e-02,  3.60458322e-02,  3.76726214e-02, -7.36659826e-02,\n",
       "       -1.13922153e-01, -8.57791591e-02, -2.74434308e-02, -1.05807836e-01,\n",
       "       -3.11892044e-01, -3.34155065e-02, -4.80345295e-04,  1.83891687e-01,\n",
       "        2.21416567e-02,  3.47382452e-02, -6.84426036e-02, -8.53937214e-02,\n",
       "       -1.59176935e-01, -1.71757714e-02,  4.95120546e-03, -6.63401524e-02,\n",
       "        8.59173324e-02, -8.07337399e-02, -4.36082656e-02,  1.96929349e-02,\n",
       "       -8.19352644e-02, -4.47964377e-02,  5.23869683e-02, -1.84874326e-01,\n",
       "       -3.67901238e-02, -8.30005090e-02,  1.88358300e-02, -2.56381277e-02,\n",
       "       -8.37994964e-02, -5.63949868e-02, -1.02398557e-01,  1.91380355e-02,\n",
       "        1.32864381e-01,  1.29477523e-01, -6.81192106e-02, -2.22729253e-01,\n",
       "       -1.79694975e-01, -6.58025268e-03,  6.54788004e-02, -3.73219799e-02,\n",
       "       -1.92507538e-02,  4.98898593e-02,  1.18608755e-01,  6.89898125e-02,\n",
       "        1.94987931e-01, -9.22417126e-02,  4.42099638e-02,  2.62446647e-02,\n",
       "        1.28543246e-01,  1.02837062e-01, -1.02827948e-01,  1.55154516e-02,\n",
       "        1.16788197e-01,  6.02721220e-02,  1.32983955e-01, -1.04226257e-01,\n",
       "       -4.39356576e-02, -2.82132750e-03, -9.42573900e-02,  8.15305187e-03])"
      ]
     },
     "execution_count": 22,
     "metadata": {},
     "output_type": "execute_result"
    }
   ],
   "source": [
    "# Python Program illustrating graphical representation of numpy.random.normal() method numpy.random.rand() method\n",
    "\n",
    "import matplotlib.pyplot as plot\n",
    "\n",
    "# 1D Array as per Gaussian Distribution\n",
    "mean = 0\n",
    "std = 0.1\n",
    "array = np.random.normal(0, 0.1, 1000)\n",
    "array"
   ]
  },
  {
   "cell_type": "code",
   "execution_count": 26,
   "metadata": {},
   "outputs": [
    {
     "name": "stderr",
     "output_type": "stream",
     "text": [
      "C:\\Users\\RAMAN SINGH\\anaconda3\\lib\\site-packages\\ipykernel_launcher.py:1: MatplotlibDeprecationWarning: \n",
      "The 'normed' kwarg was deprecated in Matplotlib 2.1 and will be removed in 3.1. Use 'density' instead.\n",
      "  \"\"\"Entry point for launching an IPython kernel.\n"
     ]
    },
    {
     "data": {
      "image/png": "[encoded data removed]",
      "text/plain": [
       "<Figure size 432x288 with 1 Axes>"
      ]
     },
     "metadata": {
      "needs_background": "light"
     },
     "output_type": "display_data"
    }
   ],
   "source": [
    "count, bins, ignored = plot.hist(array, 30, normed=True)\n",
    "plot.plot(bins, 1/(std * np.sqrt(2 * np.pi)) *np.exp( - (bins - mean)**2 / (2 * std**2) ),linewidth=2, color='r')\n",
    "plot.show()"
   ]
  },
  {
   "cell_type": "code",
   "execution_count": 27,
   "metadata": {},
   "outputs": [
    {
     "name": "stdout",
     "output_type": "stream",
     "text": [
      "1D Array filled with random values : \n",
      " [0.43198214 0.23130922 0.00265044 0.83605613 0.4299104 ]\n"
     ]
    },
    {
     "data": {
      "image/png": "[encoded data removed]",
      "text/plain": [
       "<Figure size 432x288 with 1 Axes>"
      ]
     },
     "metadata": {
      "needs_background": "light"
     },
     "output_type": "display_data"
    }
   ],
   "source": [
    "# 1D Array constructed Randomly\n",
    "random_array = np.random.rand(5)\n",
    "print(\"1D Array filled with random values : \\n\", random_array)\n",
    "\n",
    "plot.plot(random_array)\n",
    "plot.show()"
   ]
  }
 ],
 "metadata": {
  "kernelspec": {
   "display_name": "Python 3",
   "language": "python",
   "name": "python3"
  },
  "language_info": {
   "codemirror_mode": {
    "name": "ipython",
    "version": 3
   },
   "file_extension": ".py",
   "mimetype": "text/x-python",
   "name": "python",
   "nbconvert_exporter": "python",
   "pygments_lexer": "ipython3",
   "version": "3.7.6"
  }
 },
 "nbformat": 4,
 "nbformat_minor": 4
}
