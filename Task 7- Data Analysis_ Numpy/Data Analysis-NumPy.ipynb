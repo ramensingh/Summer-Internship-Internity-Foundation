{
 "cells": [
  {
   "cell_type": "code",
   "execution_count": 1,
   "metadata": {},
   "outputs": [],
   "source": [
    "import numpy as np"
   ]
  },
  {
   "cell_type": "markdown",
   "metadata": {},
   "source": [
    "Linear Algebra with Numpy"
   ]
  },
  {
   "cell_type": "code",
   "execution_count": 2,
   "metadata": {},
   "outputs": [
    {
     "name": "stdout",
     "output_type": "stream",
     "text": [
      "Rank of A: 3\n",
      "\n",
      "Trace of A: 11\n",
      "\n",
      "Determinant of A: -306.0\n",
      "\n",
      "Inverse of A:\n",
      " [[ 0.17647059 -0.00326797 -0.02287582]\n",
      " [ 0.05882353 -0.13071895  0.08496732]\n",
      " [-0.11764706  0.1503268   0.05228758]]\n",
      "\n",
      "Matrix A raised to power 3:\n",
      " [[336 162 228]\n",
      " [406 162 469]\n",
      " [698 702 905]]\n"
     ]
    }
   ],
   "source": [
    "# 1. Find the rank, trace, determinant and inverse of the matrix\n",
    "\n",
    "A = np.array([[6, 1, 1],\n",
    "              [4, -2, 5],\n",
    "              [2, 8, 7]])\n",
    " \n",
    "# Rank of a matrix\n",
    "print(\"Rank of A:\", np.linalg.matrix_rank(A))\n",
    " \n",
    "# Trace of matrix A\n",
    "print(\"\\nTrace of A:\", np.trace(A))\n",
    " \n",
    "# Determinant of a matrix\n",
    "print(\"\\nDeterminant of A:\", np.linalg.det(A))\n",
    " \n",
    "# Inverse of matrix A\n",
    "print(\"\\nInverse of A:\\n\", np.linalg.inv(A))\n",
    " \n",
    "print(\"\\nMatrix A raised to power 3:\\n\",\n",
    "           np.linalg.matrix_power(A, 3))\n"
   ]
  },
  {
   "cell_type": "code",
   "execution_count": 3,
   "metadata": {},
   "outputs": [
    {
     "name": "stdout",
     "output_type": "stream",
     "text": [
      "Array is : [[ 1.+0.j -0.-2.j]\n",
      " [ 0.+2.j  5.+0.j]]\n",
      "Eigen value is : [0.17157288 5.82842712]\n",
      "Eigen value is : [[-0.92387953-0.j         -0.38268343+0.j        ]\n",
      " [ 0.        +0.38268343j  0.        -0.92387953j]]\n"
     ]
    }
   ],
   "source": [
    "# 2. calculate the eigenvalues\n",
    "from numpy import linalg as geek\n",
    " \n",
    "# Creating an array using array \n",
    "# function\n",
    "a = np.array([[1, -2j], [2j, 5]])\n",
    " \n",
    "print(\"Array is :\",a)\n",
    " \n",
    "# calculating an eigen value\n",
    "# using eigh() function\n",
    "c, d = geek.eigh(a)\n",
    " \n",
    "print(\"Eigen value is :\", c)\n",
    "print(\"Eigen value is :\", d)"
   ]
  },
  {
   "cell_type": "code",
   "execution_count": 4,
   "metadata": {},
   "outputs": [
    {
     "name": "stdout",
     "output_type": "stream",
     "text": [
      "Array is : [[1 0 0]\n",
      " [0 2 0]\n",
      " [0 0 3]]\n",
      "Eigen value is : [1. 2. 3.]\n",
      "Eigen value is : [[1. 0. 0.]\n",
      " [0. 1. 0.]\n",
      " [0. 0. 1.]]\n"
     ]
    }
   ],
   "source": [
    "# 3. function to compute the eigenvalues and right eigenvectors of a square array.\n",
    "# Creating an array using diag  function\n",
    "a = np.diag((1, 2, 3))\n",
    " \n",
    "print(\"Array is :\",a)\n",
    " \n",
    "# calculating an eigen value using eig() function\n",
    "c, d = geek.eig(a)\n",
    " \n",
    "print(\"Eigen value is :\",c)\n",
    "print(\"Eigen value is :\",d)"
   ]
  },
  {
   "cell_type": "code",
   "execution_count": 5,
   "metadata": {},
   "outputs": [
    {
     "name": "stdout",
     "output_type": "stream",
     "text": [
      "('Solution of linear equations:', array([2., 3.]))\n"
     ]
    }
   ],
   "source": [
    "# 4.Python Program to solve a given linear equation\n",
    " \n",
    "import numpy as np\n",
    " \n",
    "# Creating an array using array function\n",
    "a = np.array([[1, 2], [3, 4]])\n",
    " \n",
    "# Creating an array using array function\n",
    "b = np.array([8, 18])\n",
    " \n",
    "print((\"Solution of linear equations:\", \n",
    "      np.linalg.solve(a, b)))"
   ]
  },
  {
   "cell_type": "markdown",
   "metadata": {},
   "source": [
    "Using Numpy arrays"
   ]
  },
  {
   "cell_type": "code",
   "execution_count": 6,
   "metadata": {},
   "outputs": [
    {
     "name": "stdout",
     "output_type": "stream",
     "text": [
      "[1 2 3 4 5]\n",
      "<class 'numpy.ndarray'>\n"
     ]
    }
   ],
   "source": [
    "# 1. Creating a numpy array\n",
    "arr = np.array([1, 2, 3, 4, 5])\n",
    "\n",
    "print(arr)\n",
    "\n",
    "print(type(arr))"
   ]
  },
  {
   "cell_type": "code",
   "execution_count": 7,
   "metadata": {},
   "outputs": [
    {
     "name": "stdout",
     "output_type": "stream",
     "text": [
      "Matrix b : \n",
      " [         1 1074266112]\n",
      "\n",
      "Matrix a : \n",
      " [[        -3 1073741823]\n",
      " [         1 1074266112]]\n",
      "\n",
      "Matrix c : \n",
      " [[1. 0. 0.]\n",
      " [0. 1. 0.]\n",
      " [0. 0. 1.]]\n"
     ]
    }
   ],
   "source": [
    "# 2. Array creation using numpy methods \n",
    "b = np.empty(2, dtype = int)\n",
    "print(\"Matrix b : \\n\", b)\n",
    " \n",
    "a = np.empty([2, 2], dtype = int)\n",
    "print(\"\\nMatrix a : \\n\", a)\n",
    " \n",
    "c = np.empty([3, 3])\n",
    "print(\"\\nMatrix c : \\n\", c)"
   ]
  },
  {
   "cell_type": "code",
   "execution_count": 8,
   "metadata": {},
   "outputs": [
    {
     "name": "stdout",
     "output_type": "stream",
     "text": [
      "A\n",
      " [[0 1]\n",
      " [2 3]] \n",
      "\n",
      "A\n",
      " [4 5 6 7 8 9] \n",
      "\n",
      "A\n",
      " [ 4  7 10 13 16 19] \n",
      "\n"
     ]
    }
   ],
   "source": [
    "# 3. Returns an array with evenly spaced elements as per the interval\n",
    "print(\"A\\n\", np.arange(4).reshape(2, 2), \"\\n\")\n",
    " \n",
    "print(\"A\\n\", np.arange(4, 10), \"\\n\")\n",
    " \n",
    "print(\"A\\n\", np.arange(4, 20, 3), \"\\n\")\n"
   ]
  },
  {
   "cell_type": "code",
   "execution_count": 9,
   "metadata": {},
   "outputs": [
    {
     "name": "stdout",
     "output_type": "stream",
     "text": [
      "B\n",
      " (array([2.  , 2.25, 2.5 , 2.75, 3.  ]), 0.25) \n",
      "\n",
      "A\n",
      " [0.         0.22039774 0.42995636 0.6183698  0.77637192 0.8961922\n",
      " 0.9719379  0.99988386 0.9786557  0.90929743]\n"
     ]
    }
   ],
   "source": [
    "# 4. Returns number spaces evenly w.r.t interval. Similiar to arange but instead of step it uses sample number.\n",
    "# restep set to True\n",
    "print(\"B\\n\", np.linspace(2.0, 3.0, num=5, retstep=True), \"\\n\")\n",
    " \n",
    "# To evaluate sin() in long range \n",
    "x = np.linspace(0, 2, 10)\n",
    "print(\"A\\n\", np.sin(x))"
   ]
  },
  {
   "cell_type": "code",
   "execution_count": 10,
   "metadata": {},
   "outputs": [
    {
     "name": "stdout",
     "output_type": "stream",
     "text": [
      "[[1 2]\n",
      " [3 4]]\n",
      "[[1 2]\n",
      " [3 4]]\n"
     ]
    }
   ],
   "source": [
    "# 5. copy of array collapsed into one dimension\n",
    "# Python Program illustrating numpy.flatten() method\n",
    " \n",
    " \n",
    "array = np.array([[1, 2], [3, 4]])\n",
    " \n",
    "# using flatten method\n",
    "array.flatten()\n",
    "print(array)\n",
    " \n",
    "#using fatten method \n",
    "array.flatten('F')\n",
    "print(array)"
   ]
  },
  {
   "cell_type": "markdown",
   "metadata": {},
   "source": [
    "Vectorized operations"
   ]
  },
  {
   "cell_type": "code",
   "execution_count": 11,
   "metadata": {},
   "outputs": [
    {
     "name": "stdout",
     "output_type": "stream",
     "text": [
      "112492500\n",
      "Time taken by vectorized sum : 55.5 µs ± 2.43 µs per loop (mean ± std. dev. of 7 runs, 10000 loops each)\n",
      "\n",
      "112492500\n",
      "Time taken by iterative sum : 76.9 ns ± 2.72 ns per loop (mean ± std. dev. of 7 runs, 10000000 loops each)\n"
     ]
    }
   ],
   "source": [
    "# 1.\n",
    "# importing the modules\n",
    "import timeit\n",
    "\n",
    "# vectorized sum\n",
    "print(np.sum(np.arange(15000)))\n",
    "\n",
    "print(\"Time taken by vectorized sum : \", end = \"\")\n",
    "%timeit np.sum(np.arange(15000))\n",
    "\n",
    "# itersative sum\n",
    "total = 0\n",
    "for item in range(0, 15000):\n",
    "\ttotal += item\n",
    "a = total\n",
    "print(\"\\n\" + str(a))\n",
    "\n",
    "print(\"Time taken by iterative sum : \", end = \"\")\n",
    "%timeit a\n"
   ]
  },
  {
   "cell_type": "code",
   "execution_count": 12,
   "metadata": {},
   "outputs": [
    {
     "name": "stdout",
     "output_type": "stream",
     "text": [
      "Time taken by vectorized operation : 9.23 µs ± 1.24 µs per loop (mean ± std. dev. of 7 runs, 100000 loops each)\n",
      "Time taken by non-vectorized operation : 79.3 µs ± 19.8 µs per loop (mean ± std. dev. of 7 runs, 10000 loops each)\n"
     ]
    }
   ],
   "source": [
    "# 2.\n",
    "# importing the modules\n",
    "import numpy as np\n",
    "import timeit\n",
    "import math\n",
    "\n",
    "# vectorized operation\n",
    "print(\"Time taken by vectorized operation : \", end = \"\")\n",
    "%timeit np.exp(np.arange(150))\n",
    "\n",
    "# non-vectorized operation\n",
    "print(\"Time taken by non-vectorized operation : \", end = \"\")\n",
    "%timeit [math.exp(item) for item in range(150)]\n"
   ]
  },
  {
   "cell_type": "markdown",
   "metadata": {},
   "source": [
    "Universal functions"
   ]
  },
  {
   "cell_type": "code",
   "execution_count": 13,
   "metadata": {},
   "outputs": [
    {
     "name": "stdout",
     "output_type": "stream",
     "text": [
      "Sine of angles in the array:\n",
      "[0.00000000e+00 5.00000000e-01 7.07106781e-01 8.66025404e-01\n",
      " 1.00000000e+00 1.22464680e-16]\n",
      "Inverse Sine of sine values:\n",
      "[0.0000000e+00 3.0000000e+01 4.5000000e+01 6.0000000e+01 9.0000000e+01\n",
      " 7.0167093e-15]\n",
      "Sine hyperbolic of angles in the array:\n",
      "[ 0.          0.54785347  0.86867096  1.24936705  2.3012989  11.54873936]\n",
      "Inverse Sine hyperbolic:\n",
      "[ 0.          0.52085606  0.76347126  0.94878485  0.74483916 -0.85086591]\n",
      "hypotenuse of right triangle is:\n",
      "5.0\n"
     ]
    }
   ],
   "source": [
    "# 1.\n",
    "# Python code to demonstrate trignometric function\n",
    "import numpy as np\n",
    "\n",
    "# create an array of angles\n",
    "angles = np.array([0, 30, 45, 60, 90, 180])\n",
    "\n",
    "# conversion of degree into radians\n",
    "# using deg2rad function\n",
    "radians = np.deg2rad(angles)\n",
    "\n",
    "# sine of angles\n",
    "print('Sine of angles in the array:')\n",
    "sine_value = np.sin(radians)\n",
    "print(np.sin(radians))\n",
    "\n",
    "# inverse sine of sine values\n",
    "print('Inverse Sine of sine values:')\n",
    "print(np.rad2deg(np.arcsin(sine_value)))\n",
    "\n",
    "# hyperbolic sine of angles\n",
    "print('Sine hyperbolic of angles in the array:')\n",
    "sineh_value = np.sinh(radians)\n",
    "print(np.sinh(radians))\n",
    "\n",
    "# inverse sine hyperbolic\n",
    "print('Inverse Sine hyperbolic:')\n",
    "print(np.sin(sineh_value))\n",
    "\n",
    "# hypot function demonstration\n",
    "base = 4\n",
    "height = 3\n",
    "print('hypotenuse of right triangle is:')\n",
    "print(np.hypot(base, height))\n"
   ]
  },
  {
   "cell_type": "code",
   "execution_count": 14,
   "metadata": {},
   "outputs": [
    {
     "name": "stdout",
     "output_type": "stream",
     "text": [
      "Minimum and maximum weight of the students: \n",
      "45.0 73.25\n",
      "Range of the weight of the students: \n",
      "28.25\n",
      "Weight below which 70 % student fall: \n",
      "55.317\n",
      "Mean weight of the students: \n",
      "54.3225\n",
      "Median weight of the students: \n",
      "51.6\n",
      "Standard deviation of weight of the students: \n",
      "8.052773978574091\n",
      "Variance of weight of the students: \n",
      "64.84716875\n",
      "Average weight of the students: \n",
      "54.3225\n"
     ]
    }
   ],
   "source": [
    "# 2.\n",
    "# Python code demonstrate statistical function\n",
    "import numpy as np\n",
    "\n",
    "# construct a weight array\n",
    "weight = np.array([50.7, 52.5, 50, 58, 55.63, 73.25, 49.5, 45])\n",
    "\n",
    "# minimum and maximum\n",
    "print('Minimum and maximum weight of the students: ')\n",
    "print(np.amin(weight), np.amax(weight))\n",
    "\n",
    "# range of weight i.e. max weight-min weight\n",
    "print('Range of the weight of the students: ')\n",
    "print(np.ptp(weight))\n",
    "\n",
    "# percentile\n",
    "print('Weight below which 70 % student fall: ')\n",
    "print(np.percentile(weight, 70))\n",
    "\n",
    "# mean\n",
    "print('Mean weight of the students: ')\n",
    "print(np.mean(weight))\n",
    "\n",
    "# median\n",
    "print('Median weight of the students: ')\n",
    "print(np.median(weight))\n",
    "\n",
    "# standard deviation\n",
    "print('Standard deviation of weight of the students: ')\n",
    "print(np.std(weight))\n",
    "\n",
    "# variance\n",
    "print('Variance of weight of the students: ')\n",
    "print(np.var(weight))\n",
    "\n",
    "# average\n",
    "print('Average weight of the students: ')\n",
    "print(np.average(weight))\n"
   ]
  },
  {
   "cell_type": "code",
   "execution_count": 15,
   "metadata": {},
   "outputs": [
    {
     "name": "stdout",
     "output_type": "stream",
     "text": [
      "bitwise_and of two arrays: \n",
      "[ 0  2  4  6  8 16 32]\n",
      "bitwise_or of two arrays: \n",
      "[ 1  3  5  7  9 17 33]\n",
      "bitwise_xor of two arrays: \n",
      "[1 1 1 1 1 1 1]\n",
      "inversion of even no. array: \n",
      "[ -1  -3  -5  -7  -9 -17 -33]\n",
      "left_shift of even no. array: \n",
      "[ 0  4  8 12 16 32 64]\n",
      "right_shift of even no. array: \n",
      "[ 0  1  2  3  4  8 16]\n"
     ]
    }
   ],
   "source": [
    "# 3. \n",
    "# Python code to demonstrate bitwise-function\n",
    "import numpy as np\n",
    "\n",
    "# construct an array of even and odd numbers\n",
    "even = np.array([0, 2, 4, 6, 8, 16, 32])\n",
    "odd = np.array([1, 3, 5, 7, 9, 17, 33])\n",
    "\n",
    "# bitwise_and\n",
    "print('bitwise_and of two arrays: ')\n",
    "print(np.bitwise_and(even, odd))\n",
    "\n",
    "# bitwise_or\n",
    "print('bitwise_or of two arrays: ')\n",
    "print(np.bitwise_or(even, odd))\n",
    "\n",
    "# bitwise_xor\n",
    "print('bitwise_xor of two arrays: ')\n",
    "print(np.bitwise_xor(even, odd))\n",
    "\n",
    "# invert or not\n",
    "print('inversion of even no. array: ')\n",
    "print(np.invert(even))\n",
    "\n",
    "# left_shift\n",
    "print('left_shift of even no. array: ')\n",
    "print(np.left_shift(even, 1))\n",
    "\n",
    "# right_shift\n",
    "print('right_shift of even no. array: ')\n",
    "print(np.right_shift(even, 1))\n"
   ]
  },
  {
   "cell_type": "markdown",
   "metadata": {},
   "source": [
    "Broadcasting and shape manipulation"
   ]
  },
  {
   "cell_type": "code",
   "execution_count": 16,
   "metadata": {},
   "outputs": [
    {
     "name": "stdout",
     "output_type": "stream",
     "text": [
      "[17 11 19]\n",
      "3\n",
      "[20 14 22]\n"
     ]
    }
   ],
   "source": [
    "# 1. Single Dimension array\n",
    "import numpy as np\n",
    "a = np.array([17, 11, 19]) # 1x3 Dimension array\n",
    "print(a)\n",
    "b = 3\n",
    "print(b)\n",
    "\n",
    "# Broadcasting happened because of\n",
    "# miss match in array Dimension.\n",
    "c = a + b\n",
    "print(c)\n"
   ]
  },
  {
   "cell_type": "code",
   "execution_count": 17,
   "metadata": {},
   "outputs": [
    {
     "name": "stdout",
     "output_type": "stream",
     "text": [
      "[[11 22 33]\n",
      " [10 20 30]]\n",
      "4\n",
      "[[15 26 37]\n",
      " [14 24 34]]\n"
     ]
    }
   ],
   "source": [
    "# 2. two Dimension array\n",
    "import numpy as np\n",
    "A = np.array([[11, 22, 33], [10, 20, 30]])\n",
    "print(A)\n",
    "\n",
    "b = 4\n",
    "print(b)\n",
    "\n",
    "C = A + b\n",
    "print(C)\n"
   ]
  },
  {
   "cell_type": "code",
   "execution_count": 19,
   "metadata": {},
   "outputs": [
    {
     "name": "stdout",
     "output_type": "stream",
     "text": [
      "[[ 540  660]\n",
      " [1080 1320]\n",
      " [1620 1980]]\n",
      "[[ 24  46  69]\n",
      " [ 57  79 102]]\n",
      "[[ 57  67  78]\n",
      " [100 110 121]]\n",
      "[[ 57  67  78]\n",
      " [100 110 121]]\n",
      "[[ 24  44  66]\n",
      " [ 90 110 132]]\n"
     ]
    }
   ],
   "source": [
    "# 3.\n",
    "import numpy as np\n",
    "\n",
    "v = np.array([12, 24, 36])\n",
    "w = np.array([45, 55])\n",
    "\n",
    "# To compute an outer product we first\n",
    "# reshape v to a column vector of shape 3x1\n",
    "# then broadcast it against w to yield an output\n",
    "# of shape 3x2 which is the outer product of v and w\n",
    "print(np.reshape(v, (3, 1)) * w)\n",
    "\n",
    "X = np.array([[12, 22, 33], [45, 55, 66]])\n",
    "\n",
    "# x has shape 2x3 and v has shape (3, )\n",
    "# so they broadcast to 2x3,\n",
    "print(X + v)\n",
    "\n",
    "# Add a vector to each column of a matrix X has\n",
    "# shape 2x3 and w has shape (2, ) If we transpose X\n",
    "# then it has shape 3x2 and can be broadcast against w\n",
    "# to yield a result of shape 3x2.\n",
    "\n",
    "# Transposing this yields the final result\n",
    "# of shape 2x3 which is the matrix.\n",
    "print((X.T + w).T)\n",
    "\n",
    "# Another solution is to reshape w to be a column\n",
    "# vector of shape 2X1 we can then broadcast it\n",
    "# directly against X to produce the same output.\n",
    "print(X + np.reshape(w, (2, 1)))\n",
    "\n",
    "# Multiply a matrix by a constant, X has shape 2x3.\n",
    "# Numpy treats scalars as arrays of shape();\n",
    "# these can be broadcast together to shape 2x3.\n",
    "print(X * 2)\n"
   ]
  },
  {
   "cell_type": "code",
   "execution_count": 20,
   "metadata": {},
   "outputs": [
    {
     "data": {
      "text/plain": [
       "array([[2, 3],\n",
       "       [4, 5],\n",
       "       [6, 7]])"
      ]
     },
     "execution_count": 20,
     "metadata": {},
     "output_type": "execute_result"
    }
   ],
   "source": [
    "# 4. reshape an array\n",
    "x = np.array([[2,3,4], [5,6,7]])      \n",
    "np.reshape(x, (3, 2))"
   ]
  },
  {
   "cell_type": "markdown",
   "metadata": {},
   "source": [
    "Boolean mask"
   ]
  },
  {
   "cell_type": "code",
   "execution_count": 21,
   "metadata": {},
   "outputs": [
    {
     "name": "stdout",
     "output_type": "stream",
     "text": [
      "[[ True  True  True  True]\n",
      " [ True  True  True False]\n",
      " [ True  True False False]]\n"
     ]
    }
   ],
   "source": [
    "# 1.\n",
    "B = np.array([[42,56,89,65],\n",
    "              [99,88,42,12],\n",
    "              [55,42,17,18]])\n",
    "\n",
    "print(B>=42)"
   ]
  },
  {
   "cell_type": "code",
   "execution_count": 22,
   "metadata": {},
   "outputs": [
    {
     "name": "stdout",
     "output_type": "stream",
     "text": [
      "[ True False False  True False False]\n"
     ]
    }
   ],
   "source": [
    "# 2.\n",
    "import numpy as np\n",
    "\n",
    "A = np.array([4, 7, 3, 4, 2, 8])\n",
    "\n",
    "print(A == 4)"
   ]
  },
  {
   "cell_type": "code",
   "execution_count": 23,
   "metadata": {},
   "outputs": [
    {
     "data": {
      "text/plain": [
       "array([[1, 1, 1, 1, 0, 1, 1, 1, 1],\n",
       "       [1, 1, 1, 0, 0, 0, 1, 1, 1],\n",
       "       [1, 1, 1, 0, 1, 0, 1, 1, 1],\n",
       "       [1, 1, 0, 0, 1, 0, 0, 1, 1],\n",
       "       [1, 1, 0, 1, 1, 1, 0, 1, 1],\n",
       "       [1, 0, 0, 1, 1, 1, 0, 0, 1],\n",
       "       [1, 0, 1, 1, 1, 1, 1, 0, 1],\n",
       "       [1, 0, 1, 1, 1, 1, 1, 0, 1],\n",
       "       [1, 0, 1, 1, 1, 1, 1, 0, 1],\n",
       "       [1, 0, 0, 0, 0, 0, 0, 0, 1],\n",
       "       [1, 0, 1, 1, 1, 1, 1, 0, 1],\n",
       "       [1, 0, 1, 1, 1, 1, 1, 0, 1],\n",
       "       [1, 0, 1, 1, 1, 1, 1, 0, 1],\n",
       "       [1, 0, 1, 1, 1, 1, 1, 0, 1],\n",
       "       [1, 0, 1, 1, 1, 1, 1, 0, 1]])"
      ]
     },
     "execution_count": 23,
     "metadata": {},
     "output_type": "execute_result"
    }
   ],
   "source": [
    "# 3. \n",
    "import numpy as np\n",
    "\n",
    "A = np.array([\n",
    "[12, 13, 14, 12, 16, 14, 11, 10,  9],\n",
    "[11, 14, 12, 15, 15, 16, 10, 12, 11],\n",
    "[10, 12, 12, 15, 14, 16, 10, 12, 12],\n",
    "[ 9, 11, 16, 15, 14, 16, 15, 12, 10],\n",
    "[12, 11, 16, 14, 10, 12, 16, 12, 13],\n",
    "[10, 15, 16, 14, 14, 14, 16, 15, 12],\n",
    "[13, 17, 14, 10, 14, 11, 14, 15, 10],\n",
    "[10, 16, 12, 14, 11, 12, 14, 18, 11],\n",
    "[10, 19, 12, 14, 11, 12, 14, 18, 10],\n",
    "[14, 22, 17, 19, 16, 17, 18, 17, 13],\n",
    "[10, 16, 12, 14, 11, 12, 14, 18, 11],\n",
    "[10, 16, 12, 14, 11, 12, 14, 18, 11],\n",
    "[10, 19, 12, 14, 11, 12, 14, 18, 10],\n",
    "[14, 22, 12, 14, 11, 12, 14, 17, 13],\n",
    "[10, 16, 12, 14, 11, 12, 14, 18, 11]])\n",
    "\n",
    "B = A < 15\n",
    "B.astype(np.int)"
   ]
  },
  {
   "cell_type": "markdown",
   "metadata": {},
   "source": [
    "Date and Time in Numpy"
   ]
  },
  {
   "cell_type": "code",
   "execution_count": 24,
   "metadata": {},
   "outputs": [
    {
     "name": "stdout",
     "output_type": "stream",
     "text": [
      "2019-08-26\n"
     ]
    }
   ],
   "source": [
    "# using numpy.datetime64() method\n",
    "dt = np.array(np.datetime64('2019-08-26'))\n",
    "\n",
    "print(dt)\n"
   ]
  }
 ],
 "metadata": {
  "kernelspec": {
   "display_name": "Python 3",
   "language": "python",
   "name": "python3"
  },
  "language_info": {
   "codemirror_mode": {
    "name": "ipython",
    "version": 3
   },
   "file_extension": ".py",
   "mimetype": "text/x-python",
   "name": "python",
   "nbconvert_exporter": "python",
   "pygments_lexer": "ipython3",
   "version": "3.7.6"
  }
 },
 "nbformat": 4,
 "nbformat_minor": 4
}
