{
 "cells": [
  {
   "cell_type": "markdown",
   "metadata": {},
   "source": [
    "Create a python program in which the user selects a particular\n",
    "range of number (example 20 to 80 or 330 to 430). The system\n",
    "should automatically select some random number and the user\n",
    "must identify that number selected by the system in minimum number of guesses.\n",
    "\n",
    "If the user identifies it in the required number of guesses then it\n",
    "should print \"Yeah! You identified the number\"\n",
    "\n",
    "else if the number guessed by the user is higher than the randomly\n",
    "selected number then it should print\n",
    "\"Please try again! The number you guessed is too high\"\n",
    "\n",
    "else if he number guessed by the user is smaller than the randomly\n",
    "selected number then it should print\n",
    "\"Please try again! The number you guessed is too small\".\n",
    "\n",
    "Else if the user does not guess the integer in minimum number of guesses, then it should\n",
    "give \"Oops! All you chances are finished. Better luck next time!\""
   ]
  },
  {
   "cell_type": "code",
   "execution_count": 1,
   "metadata": {},
   "outputs": [],
   "source": [
    "import random\n",
    "import math"
   ]
  },
  {
   "cell_type": "code",
   "execution_count": 2,
   "metadata": {},
   "outputs": [
    {
     "name": "stdout",
     "output_type": "stream",
     "text": [
      "enter a range starting point:20\n",
      "enter a range ending point:80\n"
     ]
    }
   ],
   "source": [
    "start=int(input(\"enter a range starting point:\"))\n",
    "end=int(input(\"enter a range ending point:\"))"
   ]
  },
  {
   "cell_type": "code",
   "execution_count": 3,
   "metadata": {},
   "outputs": [],
   "source": [
    "# picking a random number from the range\n",
    "x=random.randint(start,end)"
   ]
  },
  {
   "cell_type": "code",
   "execution_count": 4,
   "metadata": {},
   "outputs": [
    {
     "data": {
      "text/plain": [
       "25"
      ]
     },
     "execution_count": 4,
     "metadata": {},
     "output_type": "execute_result"
    }
   ],
   "source": [
    "x"
   ]
  },
  {
   "cell_type": "code",
   "execution_count": 6,
   "metadata": {},
   "outputs": [
    {
     "data": {
      "text/plain": [
       "6"
      ]
     },
     "execution_count": 6,
     "metadata": {},
     "output_type": "execute_result"
    }
   ],
   "source": [
    "# number of attempts\n",
    "n=int((end-start)/10)\n",
    "n"
   ]
  },
  {
   "cell_type": "code",
   "execution_count": 7,
   "metadata": {},
   "outputs": [
    {
     "name": "stdout",
     "output_type": "stream",
     "text": [
      "enter your guess20\n",
      "Please try again! The number you guessed is too small\n",
      "enter your guess54\n",
      "Please try again! The number you guessed is too high\n",
      "enter your guess32\n",
      "Please try again! The number you guessed is too high\n",
      "enter your guess24\n",
      "Please try again! The number you guessed is too small\n",
      "enter your guess25\n",
      "Yeah! You identified the number\n"
     ]
    }
   ],
   "source": [
    "flag=False\n",
    "\n",
    "while(n>0):\n",
    "    guess=int(input(\"enter your guess\"))\n",
    "    if(guess==x):\n",
    "        print(\"Yeah! You identified the number\")\n",
    "        flag=True\n",
    "        break\n",
    "    elif(guess>x):\n",
    "        print(\"Please try again! The number you guessed is too high\")\n",
    "    else:\n",
    "        print(\"Please try again! The number you guessed is too small\")\n",
    "    n=n-1\n",
    "\n",
    "if(flag==False):\n",
    "    print(\"Oops! All you chances are finished. Better luck next time!\")"
   ]
  }
 ],
 "metadata": {
  "kernelspec": {
   "display_name": "Python 3",
   "language": "python",
   "name": "python3"
  },
  "language_info": {
   "codemirror_mode": {
    "name": "ipython",
    "version": 3
   },
   "file_extension": ".py",
   "mimetype": "text/x-python",
   "name": "python",
   "nbconvert_exporter": "python",
   "pygments_lexer": "ipython3",
   "version": "3.7.6"
  }
 },
 "nbformat": 4,
 "nbformat_minor": 4
}
